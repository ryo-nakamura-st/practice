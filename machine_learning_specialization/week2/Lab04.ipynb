{
 "cells": [
  {
   "cell_type": "code",
   "execution_count": 1,
   "metadata": {},
   "outputs": [],
   "source": [
    "import numpy as np\n",
    "import matplotlib.pyplot as plt\n",
    "from lab_utils_multi import zscore_normalize_features, run_gradient_descent_feng\n",
    "np.set_printoptions(precision=2)  # reduced display precision on numpy arrays"
   ]
  },
  {
   "cell_type": "code",
   "execution_count": 3,
   "metadata": {},
   "outputs": [
    {
     "name": "stdout",
     "output_type": "stream",
     "text": [
      "type : <class 'numpy.ndarray'>, value: [ 1  2  3  4  5  6  7  8  9 10 11 12 13 14 15 16 17 18 19]\n"
     ]
    }
   ],
   "source": [
    "x = np.arange(1,20,1)\n",
    "print(f\"type : {type(x)}, value: {x}\")"
   ]
  },
  {
   "cell_type": "code",
   "execution_count": 6,
   "metadata": {},
   "outputs": [
    {
     "name": "stdout",
     "output_type": "stream",
     "text": [
      "type : <class 'numpy.ndarray'>, value: [  2   5  10  17  26  37  50  65  82 101 122 145 170 197 226 257 290 325\n",
      " 362]\n"
     ]
    }
   ],
   "source": [
    "y = 1 + x ** 2\n",
    "print(f\"type : {type(y)}, value: {y}\")"
   ]
  },
  {
   "cell_type": "code",
   "execution_count": 12,
   "metadata": {},
   "outputs": [
    {
     "name": "stdout",
     "output_type": "stream",
     "text": [
      "type : <class 'numpy.ndarray'>, value: [[ 1]\n",
      " [ 2]\n",
      " [ 3]\n",
      " [ 4]\n",
      " [ 5]\n",
      " [ 6]\n",
      " [ 7]\n",
      " [ 8]\n",
      " [ 9]\n",
      " [10]\n",
      " [11]\n",
      " [12]\n",
      " [13]\n",
      " [14]\n",
      " [15]\n",
      " [16]\n",
      " [17]\n",
      " [18]\n",
      " [19]], shape (19, 1)\n"
     ]
    }
   ],
   "source": [
    "X = x.reshape(19, 1)\n",
    "print(f\"type : {type(X)}, value: {X}, shape {X.shape}\")"
   ]
  },
  {
   "cell_type": "code",
   "execution_count": 13,
   "metadata": {},
   "outputs": [
    {
     "name": "stdout",
     "output_type": "stream",
     "text": [
      "Iteration         0, Cost: 2.24861e+03\n",
      "Iteration       100, Cost: 7.13787e+02\n",
      "Iteration       200, Cost: 5.82381e+02\n",
      "Iteration       300, Cost: 4.99373e+02\n",
      "Iteration       400, Cost: 4.46936e+02\n",
      "Iteration       500, Cost: 4.13812e+02\n",
      "Iteration       600, Cost: 3.92888e+02\n",
      "Iteration       700, Cost: 3.79670e+02\n",
      "Iteration       800, Cost: 3.71321e+02\n",
      "Iteration       900, Cost: 3.66046e+02\n",
      "w,b found by gradient descent: w: [19.46], b: -61.9463\n"
     ]
    }
   ],
   "source": [
    "model_w,model_b = run_gradient_descent_feng(X,y,iterations=1000, alpha = 1e-2)"
   ]
  },
  {
   "cell_type": "code",
   "execution_count": 14,
   "metadata": {},
   "outputs": [
    {
     "name": "stdout",
     "output_type": "stream",
     "text": [
      "model_w: shape, (1,), value: [19.46]\n",
      "model_w: shape, (), value: -61.94633826756457\n"
     ]
    }
   ],
   "source": [
    "print(f\"model_w: shape, {model_w.shape}, value: {model_w}\")\n",
    "print(f\"model_b: shape, {model_b.shape}, value: {model_b}\")"
   ]
  },
  {
   "cell_type": "code",
   "execution_count": null,
   "metadata": {},
   "outputs": [],
   "source": [
    "print(f\"model_w: shape, {model_b.shape}, value: {model_b}\")"
   ]
  }
 ],
 "metadata": {
  "kernelspec": {
   "display_name": "ml_andrew",
   "language": "python",
   "name": "python3"
  },
  "language_info": {
   "codemirror_mode": {
    "name": "ipython",
    "version": 3
   },
   "file_extension": ".py",
   "mimetype": "text/x-python",
   "name": "python",
   "nbconvert_exporter": "python",
   "pygments_lexer": "ipython3",
   "version": "3.12.2"
  }
 },
 "nbformat": 4,
 "nbformat_minor": 2
}
